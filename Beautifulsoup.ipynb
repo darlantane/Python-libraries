{
 "cells": [
  {
   "cell_type": "code",
   "execution_count": 2,
   "id": "6a9b9586",
   "metadata": {},
   "outputs": [],
   "source": [
    "from bs4 import BeautifulSoup\n",
    "import pandas as pd\n",
    "import requests"
   ]
  },
  {
   "cell_type": "code",
   "execution_count": 3,
   "id": "67a29485",
   "metadata": {},
   "outputs": [],
   "source": [
    "url = 'https://fr.wikipedia.org/wiki/Liste_des_pays_par_population'\n",
    "response = requests.get(url)"
   ]
  },
  {
   "cell_type": "code",
   "execution_count": 6,
   "id": "040b0f33",
   "metadata": {},
   "outputs": [],
   "source": [
    "soup = BeautifulSoup(response.text)\n",
    "\n",
    "data = soup.find_all('table')[0]\n",
    "df = pd.read_html(str(data))[0]"
   ]
  },
  {
   "cell_type": "code",
   "execution_count": 7,
   "id": "3b8cb99e",
   "metadata": {},
   "outputs": [
    {
     "data": {
      "text/html": [
       "<div>\n",
       "<style scoped>\n",
       "    .dataframe tbody tr th:only-of-type {\n",
       "        vertical-align: middle;\n",
       "    }\n",
       "\n",
       "    .dataframe tbody tr th {\n",
       "        vertical-align: top;\n",
       "    }\n",
       "\n",
       "    .dataframe thead th {\n",
       "        text-align: right;\n",
       "    }\n",
       "</style>\n",
       "<table border=\"1\" class=\"dataframe\">\n",
       "  <thead>\n",
       "    <tr style=\"text-align: right;\">\n",
       "      <th></th>\n",
       "      <th>Rang (2021)</th>\n",
       "      <th>Pays ou territoire</th>\n",
       "      <th>Population au 1er juillet 2021</th>\n",
       "      <th>Population projetée au 1er janvier 2024</th>\n",
       "    </tr>\n",
       "  </thead>\n",
       "  <tbody>\n",
       "    <tr>\n",
       "      <th>0</th>\n",
       "      <td>-</td>\n",
       "      <td>Monde</td>\n",
       "      <td>7 909 295 151</td>\n",
       "      <td>8 082 070 900</td>\n",
       "    </tr>\n",
       "    <tr>\n",
       "      <th>1</th>\n",
       "      <td>1</td>\n",
       "      <td>Chine[a]</td>\n",
       "      <td>1 425 893 465</td>\n",
       "      <td>1 425 493 416</td>\n",
       "    </tr>\n",
       "    <tr>\n",
       "      <th>2</th>\n",
       "      <td>2</td>\n",
       "      <td>Inde</td>\n",
       "      <td>1 407 563 842</td>\n",
       "      <td>1 435 228 798</td>\n",
       "    </tr>\n",
       "    <tr>\n",
       "      <th>3</th>\n",
       "      <td>3</td>\n",
       "      <td>États-Unis[b]</td>\n",
       "      <td>336 997 624</td>\n",
       "      <td>340 912 892</td>\n",
       "    </tr>\n",
       "    <tr>\n",
       "      <th>4</th>\n",
       "      <td>4</td>\n",
       "      <td>Indonésie</td>\n",
       "      <td>273 753 191</td>\n",
       "      <td>278 681 856</td>\n",
       "    </tr>\n",
       "  </tbody>\n",
       "</table>\n",
       "</div>"
      ],
      "text/plain": [
       "  Rang (2021) Pays ou territoire Population au 1er juillet 2021  \\\n",
       "0           -              Monde                  7 909 295 151   \n",
       "1           1           Chine[a]                  1 425 893 465   \n",
       "2           2               Inde                  1 407 563 842   \n",
       "3           3      États-Unis[b]                    336 997 624   \n",
       "4           4          Indonésie                    273 753 191   \n",
       "\n",
       "  Population projetée au 1er janvier 2024  \n",
       "0                           8 082 070 900  \n",
       "1                           1 425 493 416  \n",
       "2                           1 435 228 798  \n",
       "3                             340 912 892  \n",
       "4                             278 681 856  "
      ]
     },
     "execution_count": 7,
     "metadata": {},
     "output_type": "execute_result"
    }
   ],
   "source": [
    "df.head()"
   ]
  },
  {
   "cell_type": "code",
   "execution_count": 8,
   "id": "658d0b38",
   "metadata": {},
   "outputs": [
    {
     "data": {
      "text/html": [
       "<div>\n",
       "<style scoped>\n",
       "    .dataframe tbody tr th:only-of-type {\n",
       "        vertical-align: middle;\n",
       "    }\n",
       "\n",
       "    .dataframe tbody tr th {\n",
       "        vertical-align: top;\n",
       "    }\n",
       "\n",
       "    .dataframe thead th {\n",
       "        text-align: right;\n",
       "    }\n",
       "</style>\n",
       "<table border=\"1\" class=\"dataframe\">\n",
       "  <thead>\n",
       "    <tr style=\"text-align: right;\">\n",
       "      <th></th>\n",
       "      <th>Rang (2021)</th>\n",
       "      <th>Pays ou territoire</th>\n",
       "      <th>Population au 1er juillet 2021</th>\n",
       "      <th>Population projetée au 1er janvier 2024</th>\n",
       "    </tr>\n",
       "  </thead>\n",
       "  <tbody>\n",
       "    <tr>\n",
       "      <th>count</th>\n",
       "      <td>238</td>\n",
       "      <td>238</td>\n",
       "      <td>238</td>\n",
       "      <td>238</td>\n",
       "    </tr>\n",
       "    <tr>\n",
       "      <th>unique</th>\n",
       "      <td>201</td>\n",
       "      <td>237</td>\n",
       "      <td>238</td>\n",
       "      <td>238</td>\n",
       "    </tr>\n",
       "    <tr>\n",
       "      <th>top</th>\n",
       "      <td>-</td>\n",
       "      <td>Saint-Martin</td>\n",
       "      <td>7 909 295 151</td>\n",
       "      <td>8 082 070 900</td>\n",
       "    </tr>\n",
       "    <tr>\n",
       "      <th>freq</th>\n",
       "      <td>38</td>\n",
       "      <td>2</td>\n",
       "      <td>1</td>\n",
       "      <td>1</td>\n",
       "    </tr>\n",
       "  </tbody>\n",
       "</table>\n",
       "</div>"
      ],
      "text/plain": [
       "       Rang (2021) Pays ou territoire Population au 1er juillet 2021  \\\n",
       "count          238                238                            238   \n",
       "unique         201                237                            238   \n",
       "top              -       Saint-Martin                  7 909 295 151   \n",
       "freq            38                  2                              1   \n",
       "\n",
       "       Population projetée au 1er janvier 2024  \n",
       "count                                      238  \n",
       "unique                                     238  \n",
       "top                              8 082 070 900  \n",
       "freq                                         1  "
      ]
     },
     "execution_count": 8,
     "metadata": {},
     "output_type": "execute_result"
    }
   ],
   "source": [
    "df.describe()"
   ]
  },
  {
   "cell_type": "code",
   "execution_count": 9,
   "id": "277f5df2",
   "metadata": {},
   "outputs": [],
   "source": [
    "df.to_csv(r\"world_population_by_country.csv\", index = None, header = True)"
   ]
  },
  {
   "cell_type": "code",
   "execution_count": null,
   "id": "8153caab",
   "metadata": {},
   "outputs": [],
   "source": []
  }
 ],
 "metadata": {
  "kernelspec": {
   "display_name": "Python 3 (ipykernel)",
   "language": "python",
   "name": "python3"
  },
  "language_info": {
   "codemirror_mode": {
    "name": "ipython",
    "version": 3
   },
   "file_extension": ".py",
   "mimetype": "text/x-python",
   "name": "python",
   "nbconvert_exporter": "python",
   "pygments_lexer": "ipython3",
   "version": "3.9.7"
  }
 },
 "nbformat": 4,
 "nbformat_minor": 5
}
